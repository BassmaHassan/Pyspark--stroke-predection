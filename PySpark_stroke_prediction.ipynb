{
  "nbformat": 4,
  "nbformat_minor": 5,
  "metadata": {
    "kernelspec": {
      "display_name": "Python 3",
      "language": "python",
      "name": "python3"
    },
    "language_info": {
      "codemirror_mode": {
        "name": "ipython",
        "version": 3
      },
      "file_extension": ".py",
      "mimetype": "text/x-python",
      "name": "python",
      "nbconvert_exporter": "python",
      "pygments_lexer": "ipython3",
      "version": "3.8.8"
    },
    "colab": {
      "name": "Spark and Python for Big Data Final Exam_Bassma_Hassan.ipynb",
      "provenance": [],
      "collapsed_sections": []
    }
  },
  "cells": [
    {
      "cell_type": "markdown",
      "metadata": {
        "id": "fa486f23"
      },
      "source": [
        "![image.png](attachment:image.png)"
      ],
      "id": "fa486f23"
    },
    {
      "cell_type": "markdown",
      "metadata": {
        "id": "abbf1e33"
      },
      "source": [
        "##### **Good luck with taking your exam. Keep working and make your dreams all come true. Seeing the results of all of your hard work will make this struggle worth it. We’re all thinking of you.** \n",
        "<b><font color='blue'>AI-PRO Spark Team ITI</font></b>"
      ],
      "id": "abbf1e33"
    },
    {
      "cell_type": "markdown",
      "metadata": {
        "id": "8326ba88"
      },
      "source": [
        "## Objective:\n",
        "- The objective from this project is to create a <b>Logistic Regression Classifier</b> to predict the <b>Stroke Condition</b>.\n",
        "- <b>Stoke</b> is a condition in which either the blood flow to the brain stops or blood flow is excessive.\n",
        "- It is required to obtain <b>ROC > 0.65</b>."
      ],
      "id": "8326ba88"
    },
    {
      "cell_type": "markdown",
      "metadata": {
        "id": "0eb78c16"
      },
      "source": [
        "### Data:\n",
        "- Data is provided in csv format in a file named <b>healthcare-dataset-stroke-data.csv</b>"
      ],
      "id": "0eb78c16"
    },
    {
      "cell_type": "markdown",
      "metadata": {
        "id": "7c842b79"
      },
      "source": [
        "### Column names and data types are as follow:\n",
        "- id, integer.\n",
        "- gender, string.\n",
        "- age, double.\n",
        "- hypertension, integer.\n",
        "- heart_disease, integer.\n",
        "- ever_married, string.\n",
        "- work_type, string.\n",
        "- Residence_type, string.\n",
        "- avg_glucose_level, double.\n",
        "- bmi, double.\n",
        "- smoking_status, string.\n",
        "- stroke, integer <b>(Target Label)</b>.\n",
        "If the person has stroke the stroke label value is <b>\"1\"</b> otherwise <b>\"0\"</b>."
      ],
      "id": "7c842b79"
    },
    {
      "cell_type": "markdown",
      "metadata": {
        "id": "6971f788"
      },
      "source": [
        "## To perform this task follow the following guiding steps:"
      ],
      "id": "6971f788"
    },
    {
      "cell_type": "code",
      "metadata": {
        "id": "pFu-G4mqoyJs"
      },
      "source": [
        "!apt-get install openjdk-8-jdk-headless -qq > /dev/null\n",
        "!wget -q https://archive.apache.org/dist/spark/spark-3.0.1/spark-3.0.1-bin-hadoop3.2.tgz\n",
        "!tar xf spark-3.0.1-bin-hadoop3.2.tgz\n",
        "!pip install -q findspark\n",
        "import os\n",
        "os.environ[\"JAVA_HOME\"] = \"/usr/lib/jvm/java-8-openjdk-amd64\"\n",
        "os.environ[\"SPARK_HOME\"] = \"/content/spark-3.0.1-bin-hadoop3.2\"\n",
        "import findspark\n",
        "findspark.init()"
      ],
      "id": "pFu-G4mqoyJs",
      "execution_count": 165,
      "outputs": []
    },
    {
      "cell_type": "markdown",
      "metadata": {
        "id": "e31bc851"
      },
      "source": [
        "### Create a spark session and import the required libraries"
      ],
      "id": "e31bc851"
    },
    {
      "cell_type": "code",
      "metadata": {
        "id": "ab3ba311"
      },
      "source": [
        "from pyspark.sql import SparkSession\n",
        "spark = SparkSession.builder.getOrCreate()"
      ],
      "id": "ab3ba311",
      "execution_count": 166,
      "outputs": []
    },
    {
      "cell_type": "markdown",
      "metadata": {
        "id": "843b8468"
      },
      "source": [
        "### Create a data schema programatically"
      ],
      "id": "843b8468"
    },
    {
      "cell_type": "code",
      "metadata": {
        "id": "8616fe16"
      },
      "source": [
        "import pyspark.sql.types as typ\n",
        "\n",
        "sch = typ.StructType([\n",
        "      typ.StructField('id', typ.IntegerType(), True)\n",
        "    , typ.StructField('gender', typ.StringType(), True)\n",
        "    , typ.StructField('age', typ.DoubleType(), True)\n",
        "    , typ.StructField('hypertension', typ.IntegerType(), True)\n",
        "    , typ.StructField('heart_disease', typ.IntegerType(), True)\n",
        "    , typ.StructField('ever_married', typ.StringType(), True)\n",
        "    , typ.StructField('work_type', typ.StringType(), True)\n",
        "    , typ.StructField('Residence_type', typ.StringType(), True)\n",
        "    , typ.StructField('avg_glucose_level', typ.DoubleType(), True)\n",
        "    , typ.StructField('bmi', typ.DoubleType(), True)\n",
        "    ,typ.StructField('smoking_status', typ.StringType(), True)\n",
        "    ,typ.StructField('stroke', typ.IntegerType(), True)\n",
        "    ])"
      ],
      "id": "8616fe16",
      "execution_count": 205,
      "outputs": []
    },
    {
      "cell_type": "markdown",
      "metadata": {
        "id": "2d00718f"
      },
      "source": [
        "### Read the data using the standard DataReader (Key,Value) pairs format\n",
        "- Provide the schema and any other required options."
      ],
      "id": "2d00718f"
    },
    {
      "cell_type": "code",
      "metadata": {
        "id": "61fcc4cd"
      },
      "source": [
        "df= spark.read.csv('healthcare-dataset-stroke-data.csv',header=True, schema= sch )"
      ],
      "id": "61fcc4cd",
      "execution_count": 206,
      "outputs": []
    },
    {
      "cell_type": "markdown",
      "metadata": {
        "id": "974bc193"
      },
      "source": [
        "### Explore the data \n",
        "#### You have to do the following:\n",
        "- Print the Schema.\n",
        "- Show the first 10 rows from the data.\n",
        "- Explore null values and show how many null values in each column.\n",
        "- Plot a count plot for the target label and <b>notice the graph</b>.\n",
        "- Perform any additional EDA you find useful."
      ],
      "id": "974bc193"
    },
    {
      "cell_type": "code",
      "metadata": {
        "colab": {
          "base_uri": "https://localhost:8080/"
        },
        "id": "353b6f34",
        "outputId": "5b4e9fd6-618c-4d90-c11e-3637e0cc5431"
      },
      "source": [
        "df.printSchema()"
      ],
      "id": "353b6f34",
      "execution_count": 207,
      "outputs": [
        {
          "output_type": "stream",
          "name": "stdout",
          "text": [
            "root\n",
            " |-- id: integer (nullable = true)\n",
            " |-- gender: string (nullable = true)\n",
            " |-- age: double (nullable = true)\n",
            " |-- hypertension: integer (nullable = true)\n",
            " |-- heart_disease: integer (nullable = true)\n",
            " |-- ever_married: string (nullable = true)\n",
            " |-- work_type: string (nullable = true)\n",
            " |-- Residence_type: string (nullable = true)\n",
            " |-- avg_glucose_level: double (nullable = true)\n",
            " |-- bmi: double (nullable = true)\n",
            " |-- smoking_status: string (nullable = true)\n",
            " |-- stroke: integer (nullable = true)\n",
            "\n"
          ]
        }
      ]
    },
    {
      "cell_type": "code",
      "metadata": {
        "colab": {
          "base_uri": "https://localhost:8080/"
        },
        "id": "6fb198f0",
        "outputId": "b8facb8a-aeaa-4255-c4a9-a9a7ef65ad66"
      },
      "source": [
        "df.show(10)"
      ],
      "id": "6fb198f0",
      "execution_count": 208,
      "outputs": [
        {
          "output_type": "stream",
          "name": "stdout",
          "text": [
            "+-----+------+----+------------+-------------+------------+-------------+--------------+-----------------+----+---------------+------+\n",
            "|   id|gender| age|hypertension|heart_disease|ever_married|    work_type|Residence_type|avg_glucose_level| bmi| smoking_status|stroke|\n",
            "+-----+------+----+------------+-------------+------------+-------------+--------------+-----------------+----+---------------+------+\n",
            "| 9046|  Male|67.0|           0|            1|         Yes|      Private|         Urban|           228.69|36.6|formerly smoked|     1|\n",
            "|51676|Female|61.0|           0|            0|         Yes|Self-employed|         Rural|           202.21|null|   never smoked|     1|\n",
            "|31112|  Male|80.0|           0|            1|         Yes|      Private|         Rural|           105.92|32.5|   never smoked|     1|\n",
            "|60182|Female|49.0|           0|            0|         Yes|      Private|         Urban|           171.23|34.4|         smokes|     1|\n",
            "| 1665|Female|79.0|           1|            0|         Yes|Self-employed|         Rural|           174.12|24.0|   never smoked|     1|\n",
            "|56669|  Male|81.0|           0|            0|         Yes|      Private|         Urban|           186.21|29.0|formerly smoked|     1|\n",
            "|53882|  Male|74.0|           1|            1|         Yes|      Private|         Rural|            70.09|27.4|   never smoked|     1|\n",
            "|10434|Female|69.0|           0|            0|          No|      Private|         Urban|            94.39|22.8|   never smoked|     1|\n",
            "|27419|Female|59.0|           0|            0|         Yes|      Private|         Rural|            76.15|null|        Unknown|     1|\n",
            "|60491|Female|78.0|           0|            0|         Yes|      Private|         Urban|            58.57|24.2|        Unknown|     1|\n",
            "+-----+------+----+------------+-------------+------------+-------------+--------------+-----------------+----+---------------+------+\n",
            "only showing top 10 rows\n",
            "\n"
          ]
        }
      ]
    },
    {
      "cell_type": "code",
      "metadata": {
        "colab": {
          "base_uri": "https://localhost:8080/"
        },
        "id": "5SVn2x00sp1U",
        "outputId": "6caabf03-ac22-4dee-f7a5-6f355906f499"
      },
      "source": [
        "from pyspark.sql.functions import isnan, when, count, col\n",
        "\n",
        "With_Null_df=df.select([count(when(isnan(c) | col(c).isNull(), c)).alias(c) for c in df.columns])\n",
        "With_Null_df.show()"
      ],
      "id": "5SVn2x00sp1U",
      "execution_count": 209,
      "outputs": [
        {
          "output_type": "stream",
          "name": "stdout",
          "text": [
            "+---+------+---+------------+-------------+------------+---------+--------------+-----------------+---+--------------+------+\n",
            "| id|gender|age|hypertension|heart_disease|ever_married|work_type|Residence_type|avg_glucose_level|bmi|smoking_status|stroke|\n",
            "+---+------+---+------------+-------------+------------+---------+--------------+-----------------+---+--------------+------+\n",
            "|  0|     0|  0|           0|            0|           0|        0|             0|                0|201|             0|     0|\n",
            "+---+------+---+------------+-------------+------------+---------+--------------+-----------------+---+--------------+------+\n",
            "\n"
          ]
        }
      ]
    },
    {
      "cell_type": "code",
      "metadata": {
        "colab": {
          "base_uri": "https://localhost:8080/"
        },
        "id": "VfcqkoPyvDq_",
        "outputId": "f98ca98f-28bc-4296-d1ad-1c6fea764280"
      },
      "source": [
        "label_counts= df.select('stroke').groupby('stroke').count().show()"
      ],
      "id": "VfcqkoPyvDq_",
      "execution_count": 210,
      "outputs": [
        {
          "output_type": "stream",
          "name": "stdout",
          "text": [
            "+------+-----+\n",
            "|stroke|count|\n",
            "+------+-----+\n",
            "|     1|  249|\n",
            "|     0| 4861|\n",
            "+------+-----+\n",
            "\n"
          ]
        }
      ]
    },
    {
      "cell_type": "code",
      "metadata": {
        "colab": {
          "base_uri": "https://localhost:8080/",
          "height": 302
        },
        "id": "gjgd63g7xOIw",
        "outputId": "585bff13-bf48-44d8-9ee6-0c97b51304aa"
      },
      "source": [
        "import seaborn as sns\n",
        "sns.countplot(x='stroke',data=df.toPandas())"
      ],
      "id": "gjgd63g7xOIw",
      "execution_count": 211,
      "outputs": [
        {
          "output_type": "execute_result",
          "data": {
            "text/plain": [
              "<matplotlib.axes._subplots.AxesSubplot at 0x7fb93b940fd0>"
            ]
          },
          "metadata": {},
          "execution_count": 211
        },
        {
          "output_type": "display_data",
          "data": {
            "image/png": "[encoded data removed]",
            "text/plain": [
              "<Figure size 432x288 with 1 Axes>"
            ]
          },
          "metadata": {}
        }
      ]
    },
    {
      "cell_type": "code",
      "metadata": {
        "colab": {
          "base_uri": "https://localhost:8080/",
          "height": 302
        },
        "id": "pUjDPucIJBue",
        "outputId": "7d949b98-4ff3-462f-8d7b-1fb7493bfff7"
      },
      "source": [
        "sns.scatterplot(x='stroke', y='bmi', hue= 'gender',data=df.toPandas() )"
      ],
      "id": "pUjDPucIJBue",
      "execution_count": 377,
      "outputs": [
        {
          "output_type": "execute_result",
          "data": {
            "text/plain": [
              "<matplotlib.axes._subplots.AxesSubplot at 0x7fb93ba41250>"
            ]
          },
          "metadata": {},
          "execution_count": 377
        },
        {
          "output_type": "display_data",
          "data": {
            "image/png": "[encoded data removed]",
            "text/plain": [
              "<Figure size 432x288 with 1 Axes>"
            ]
          },
          "metadata": {}
        }
      ]
    },
    {
      "cell_type": "code",
      "metadata": {
        "colab": {
          "base_uri": "https://localhost:8080/",
          "height": 302
        },
        "id": "gWPDYptpJevV",
        "outputId": "71c4757c-9551-48d6-f8ed-296737eab77f"
      },
      "source": [
        "sns.scatterplot(x='stroke', y='smoking_status', hue= 'gender',data=df.toPandas() )"
      ],
      "id": "gWPDYptpJevV",
      "execution_count": 378,
      "outputs": [
        {
          "output_type": "execute_result",
          "data": {
            "text/plain": [
              "<matplotlib.axes._subplots.AxesSubplot at 0x7fb93b7f7d50>"
            ]
          },
          "metadata": {},
          "execution_count": 378
        },
        {
          "output_type": "display_data",
          "data": {
            "image/png": "[encoded data removed]",
            "text/plain": [
              "<Figure size 432x288 with 1 Axes>"
            ]
          },
          "metadata": {}
        }
      ]
    },
    {
      "cell_type": "markdown",
      "metadata": {
        "id": "59b770cb"
      },
      "source": [
        "### Get the summary statistics of the age column\n",
        "- You will find the minimum age is about <b>0.08</b>.\n",
        "- Remove rows for the age below <b>2 years old</b>."
      ],
      "id": "59b770cb"
    },
    {
      "cell_type": "code",
      "metadata": {
        "scrolled": false,
        "colab": {
          "base_uri": "https://localhost:8080/"
        },
        "id": "ed40fb11",
        "outputId": "5f8dbf6e-1eeb-4114-e3e4-dd5a286de719"
      },
      "source": [
        "df.select('age').describe().show()"
      ],
      "id": "ed40fb11",
      "execution_count": 212,
      "outputs": [
        {
          "output_type": "stream",
          "name": "stdout",
          "text": [
            "+-------+------------------+\n",
            "|summary|               age|\n",
            "+-------+------------------+\n",
            "|  count|              5110|\n",
            "|   mean|43.226614481409015|\n",
            "| stddev| 22.61264672311348|\n",
            "|    min|              0.08|\n",
            "|    max|              82.0|\n",
            "+-------+------------------+\n",
            "\n"
          ]
        }
      ]
    },
    {
      "cell_type": "code",
      "metadata": {
        "id": "cc99c0be"
      },
      "source": [
        "df= df.where('age>=2')"
      ],
      "id": "cc99c0be",
      "execution_count": 213,
      "outputs": []
    },
    {
      "cell_type": "code",
      "metadata": {
        "colab": {
          "base_uri": "https://localhost:8080/"
        },
        "id": "srmENiFYyxqG",
        "outputId": "35530df4-4386-4e58-c35d-0a6095a34614"
      },
      "source": [
        "df.select('age').describe().show()"
      ],
      "id": "srmENiFYyxqG",
      "execution_count": 236,
      "outputs": [
        {
          "output_type": "stream",
          "name": "stdout",
          "text": [
            "+-------+------------------+\n",
            "|summary|               age|\n",
            "+-------+------------------+\n",
            "|  count|              4990|\n",
            "|   mean| 44.23907815631262|\n",
            "| stddev|21.908077881917443|\n",
            "|    min|               2.0|\n",
            "|    max|              82.0|\n",
            "+-------+------------------+\n",
            "\n"
          ]
        }
      ]
    },
    {
      "cell_type": "markdown",
      "metadata": {
        "id": "bf8c9498"
      },
      "source": [
        "### Working with gender & smoking_status columns:\n",
        "- Select and show the gender & smoking_status columns\n",
        "- Get the distinct values for each column."
      ],
      "id": "bf8c9498"
    },
    {
      "cell_type": "code",
      "metadata": {
        "colab": {
          "base_uri": "https://localhost:8080/"
        },
        "id": "925a5ecd",
        "outputId": "98d23d2f-53e9-4c1d-e627-a8eb99e7066e"
      },
      "source": [
        "df.select('gender','smoking_status').show()"
      ],
      "id": "925a5ecd",
      "execution_count": 215,
      "outputs": [
        {
          "output_type": "stream",
          "name": "stdout",
          "text": [
            "+------+---------------+\n",
            "|gender| smoking_status|\n",
            "+------+---------------+\n",
            "|  Male|formerly smoked|\n",
            "|Female|   never smoked|\n",
            "|  Male|   never smoked|\n",
            "|Female|         smokes|\n",
            "|Female|   never smoked|\n",
            "|  Male|formerly smoked|\n",
            "|  Male|   never smoked|\n",
            "|Female|   never smoked|\n",
            "|Female|        Unknown|\n",
            "|Female|        Unknown|\n",
            "|Female|   never smoked|\n",
            "|Female|         smokes|\n",
            "|Female|         smokes|\n",
            "|  Male|        Unknown|\n",
            "|Female|   never smoked|\n",
            "|Female|   never smoked|\n",
            "|  Male|         smokes|\n",
            "|  Male|         smokes|\n",
            "|Female|   never smoked|\n",
            "|  Male|        Unknown|\n",
            "+------+---------------+\n",
            "only showing top 20 rows\n",
            "\n"
          ]
        }
      ]
    },
    {
      "cell_type": "code",
      "metadata": {
        "colab": {
          "base_uri": "https://localhost:8080/"
        },
        "id": "9dfe35a4",
        "outputId": "864c07e6-ff01-43c2-8b0d-207b266b3e8e"
      },
      "source": [
        "df.select('gender','smoking_status').distinct().show()"
      ],
      "id": "9dfe35a4",
      "execution_count": 216,
      "outputs": [
        {
          "output_type": "stream",
          "name": "stdout",
          "text": [
            "+------+---------------+\n",
            "|gender| smoking_status|\n",
            "+------+---------------+\n",
            "|  Male|         smokes|\n",
            "|  Male|formerly smoked|\n",
            "| Other|formerly smoked|\n",
            "|Female|        Unknown|\n",
            "|  Male|        Unknown|\n",
            "|Female|formerly smoked|\n",
            "|  Male|   never smoked|\n",
            "|Female|         smokes|\n",
            "|Female|   never smoked|\n",
            "+------+---------------+\n",
            "\n"
          ]
        }
      ]
    },
    {
      "cell_type": "code",
      "metadata": {
        "colab": {
          "base_uri": "https://localhost:8080/"
        },
        "id": "b7bf6c7e",
        "outputId": "4ee42d00-90d2-4f33-e48f-258fd4fd161a"
      },
      "source": [
        "df.select('gender').distinct().show()"
      ],
      "id": "b7bf6c7e",
      "execution_count": 217,
      "outputs": [
        {
          "output_type": "stream",
          "name": "stdout",
          "text": [
            "+------+\n",
            "|gender|\n",
            "+------+\n",
            "|Female|\n",
            "| Other|\n",
            "|  Male|\n",
            "+------+\n",
            "\n"
          ]
        }
      ]
    },
    {
      "cell_type": "code",
      "metadata": {
        "colab": {
          "base_uri": "https://localhost:8080/"
        },
        "id": "7RqcMwpKzSUL",
        "outputId": "2538c685-b53d-4e1f-f4c4-dfe3715a385b"
      },
      "source": [
        "df.select('smoking_status').distinct().show()"
      ],
      "id": "7RqcMwpKzSUL",
      "execution_count": 218,
      "outputs": [
        {
          "output_type": "stream",
          "name": "stdout",
          "text": [
            "+---------------+\n",
            "| smoking_status|\n",
            "+---------------+\n",
            "|         smokes|\n",
            "|        Unknown|\n",
            "|   never smoked|\n",
            "|formerly smoked|\n",
            "+---------------+\n",
            "\n"
          ]
        }
      ]
    },
    {
      "cell_type": "markdown",
      "metadata": {
        "id": "850bdfe1"
      },
      "source": [
        "#### Change the string values of the columns into numerical values as follow:\n",
        "1. Gender column:\n",
        "    * Male = 1 \n",
        "    * Female = 0 \n",
        "    * Other = 0 \n",
        "2. Smoking Status column:\n",
        "  * never smoked = 0\n",
        "  * Unknown = 0.5\n",
        "  * formerly smoked = 0.75\n",
        "  * smokes = 1.0\n"
      ],
      "id": "850bdfe1"
    },
    {
      "cell_type": "code",
      "metadata": {
        "id": "355f2ef0"
      },
      "source": [
        "gender_map= {'Male':1 , 'Female':0 , 'Other':0}\n"
      ],
      "id": "355f2ef0",
      "execution_count": 219,
      "outputs": []
    },
    {
      "cell_type": "code",
      "metadata": {
        "id": "KkqR0pxW0p-t"
      },
      "source": [
        "from pyspark.sql.functions import udf\n",
        "from pyspark.sql.types import *\n",
        "\n",
        "def genderMap(gender):\n",
        "    return gender_map[gender]\n",
        "genderMap_udf=udf(lambda gender:genderMap(gender))"
      ],
      "id": "KkqR0pxW0p-t",
      "execution_count": 220,
      "outputs": []
    },
    {
      "cell_type": "code",
      "metadata": {
        "colab": {
          "base_uri": "https://localhost:8080/"
        },
        "id": "Te5cvUEP05X-",
        "outputId": "038564bc-482f-4c93-82dc-3e6073f7b4af"
      },
      "source": [
        "import pyspark.sql.functions as F\n",
        "df=df.withColumn(\"gender\", genderMap_udf(F.col(\"gender\")).cast('int')) \n",
        "df.show(10)"
      ],
      "id": "Te5cvUEP05X-",
      "execution_count": 221,
      "outputs": [
        {
          "output_type": "stream",
          "name": "stdout",
          "text": [
            "+-----+------+----+------------+-------------+------------+-------------+--------------+-----------------+----+---------------+------+\n",
            "|   id|gender| age|hypertension|heart_disease|ever_married|    work_type|Residence_type|avg_glucose_level| bmi| smoking_status|stroke|\n",
            "+-----+------+----+------------+-------------+------------+-------------+--------------+-----------------+----+---------------+------+\n",
            "| 9046|     1|67.0|           0|            1|         Yes|      Private|         Urban|           228.69|36.6|formerly smoked|     1|\n",
            "|51676|     0|61.0|           0|            0|         Yes|Self-employed|         Rural|           202.21|null|   never smoked|     1|\n",
            "|31112|     1|80.0|           0|            1|         Yes|      Private|         Rural|           105.92|32.5|   never smoked|     1|\n",
            "|60182|     0|49.0|           0|            0|         Yes|      Private|         Urban|           171.23|34.4|         smokes|     1|\n",
            "| 1665|     0|79.0|           1|            0|         Yes|Self-employed|         Rural|           174.12|24.0|   never smoked|     1|\n",
            "|56669|     1|81.0|           0|            0|         Yes|      Private|         Urban|           186.21|29.0|formerly smoked|     1|\n",
            "|53882|     1|74.0|           1|            1|         Yes|      Private|         Rural|            70.09|27.4|   never smoked|     1|\n",
            "|10434|     0|69.0|           0|            0|          No|      Private|         Urban|            94.39|22.8|   never smoked|     1|\n",
            "|27419|     0|59.0|           0|            0|         Yes|      Private|         Rural|            76.15|null|        Unknown|     1|\n",
            "|60491|     0|78.0|           0|            0|         Yes|      Private|         Urban|            58.57|24.2|        Unknown|     1|\n",
            "+-----+------+----+------------+-------------+------------+-------------+--------------+-----------------+----+---------------+------+\n",
            "only showing top 10 rows\n",
            "\n"
          ]
        }
      ]
    },
    {
      "cell_type": "code",
      "metadata": {
        "id": "xGUvDBdS1V-H"
      },
      "source": [
        "smoking_map= {'never smoked' : 0, 'Unknown' :0.5, 'formerly smoked' : 0.75,'smokes' : 1.0}"
      ],
      "id": "xGUvDBdS1V-H",
      "execution_count": 222,
      "outputs": []
    },
    {
      "cell_type": "code",
      "metadata": {
        "id": "y2EzwBnh2Czc"
      },
      "source": [
        "def smokeMap(person):\n",
        "    return smoking_map[person]\n",
        "smokeMap_udf=udf(lambda person:smokeMap(person))"
      ],
      "id": "y2EzwBnh2Czc",
      "execution_count": 223,
      "outputs": []
    },
    {
      "cell_type": "code",
      "metadata": {
        "colab": {
          "base_uri": "https://localhost:8080/"
        },
        "id": "uKZYZ0cX2hAI",
        "outputId": "06b5a883-a953-4159-bf5e-26d7e226bade"
      },
      "source": [
        "df=df.withColumn(\"smoking_status\", smokeMap_udf(F.col(\"smoking_status\")).cast('float'))\n",
        "df.show(10)"
      ],
      "id": "uKZYZ0cX2hAI",
      "execution_count": 224,
      "outputs": [
        {
          "output_type": "stream",
          "name": "stdout",
          "text": [
            "+-----+------+----+------------+-------------+------------+-------------+--------------+-----------------+----+--------------+------+\n",
            "|   id|gender| age|hypertension|heart_disease|ever_married|    work_type|Residence_type|avg_glucose_level| bmi|smoking_status|stroke|\n",
            "+-----+------+----+------------+-------------+------------+-------------+--------------+-----------------+----+--------------+------+\n",
            "| 9046|     1|67.0|           0|            1|         Yes|      Private|         Urban|           228.69|36.6|          0.75|     1|\n",
            "|51676|     0|61.0|           0|            0|         Yes|Self-employed|         Rural|           202.21|null|           0.0|     1|\n",
            "|31112|     1|80.0|           0|            1|         Yes|      Private|         Rural|           105.92|32.5|           0.0|     1|\n",
            "|60182|     0|49.0|           0|            0|         Yes|      Private|         Urban|           171.23|34.4|           1.0|     1|\n",
            "| 1665|     0|79.0|           1|            0|         Yes|Self-employed|         Rural|           174.12|24.0|           0.0|     1|\n",
            "|56669|     1|81.0|           0|            0|         Yes|      Private|         Urban|           186.21|29.0|          0.75|     1|\n",
            "|53882|     1|74.0|           1|            1|         Yes|      Private|         Rural|            70.09|27.4|           0.0|     1|\n",
            "|10434|     0|69.0|           0|            0|          No|      Private|         Urban|            94.39|22.8|           0.0|     1|\n",
            "|27419|     0|59.0|           0|            0|         Yes|      Private|         Rural|            76.15|null|           0.5|     1|\n",
            "|60491|     0|78.0|           0|            0|         Yes|      Private|         Urban|            58.57|24.2|           0.5|     1|\n",
            "+-----+------+----+------------+-------------+------------+-------------+--------------+-----------------+----+--------------+------+\n",
            "only showing top 10 rows\n",
            "\n"
          ]
        }
      ]
    },
    {
      "cell_type": "markdown",
      "metadata": {
        "id": "3da38a31"
      },
      "source": [
        "#### Show the output DataFrame\n",
        "- Select and show the gender & smoking_status columns after value changing.\n",
        "- Print schema for the new dataframe."
      ],
      "id": "3da38a31"
    },
    {
      "cell_type": "code",
      "metadata": {
        "colab": {
          "base_uri": "https://localhost:8080/"
        },
        "id": "7df0cf29",
        "outputId": "ab517923-3483-44b3-9d01-4994f8852a0f"
      },
      "source": [
        "df.select('gender','smoking_status').show()"
      ],
      "id": "7df0cf29",
      "execution_count": 225,
      "outputs": [
        {
          "output_type": "stream",
          "name": "stdout",
          "text": [
            "+------+--------------+\n",
            "|gender|smoking_status|\n",
            "+------+--------------+\n",
            "|     1|          0.75|\n",
            "|     0|           0.0|\n",
            "|     1|           0.0|\n",
            "|     0|           1.0|\n",
            "|     0|           0.0|\n",
            "|     1|          0.75|\n",
            "|     1|           0.0|\n",
            "|     0|           0.0|\n",
            "|     0|           0.5|\n",
            "|     0|           0.5|\n",
            "|     0|           0.0|\n",
            "|     0|           1.0|\n",
            "|     0|           1.0|\n",
            "|     1|           0.5|\n",
            "|     0|           0.0|\n",
            "|     0|           0.0|\n",
            "|     1|           1.0|\n",
            "|     1|           1.0|\n",
            "|     0|           0.0|\n",
            "|     1|           0.5|\n",
            "+------+--------------+\n",
            "only showing top 20 rows\n",
            "\n"
          ]
        }
      ]
    },
    {
      "cell_type": "code",
      "metadata": {
        "id": "G9y4qcTh38b-"
      },
      "source": [
        ""
      ],
      "id": "G9y4qcTh38b-",
      "execution_count": 225,
      "outputs": []
    },
    {
      "cell_type": "code",
      "metadata": {
        "colab": {
          "base_uri": "https://localhost:8080/"
        },
        "id": "p2r1zoFx3qyR",
        "outputId": "21cf943c-9d86-4185-8b27-8850dd168c21"
      },
      "source": [
        "df.printSchema()"
      ],
      "id": "p2r1zoFx3qyR",
      "execution_count": 226,
      "outputs": [
        {
          "output_type": "stream",
          "name": "stdout",
          "text": [
            "root\n",
            " |-- id: integer (nullable = true)\n",
            " |-- gender: integer (nullable = true)\n",
            " |-- age: double (nullable = true)\n",
            " |-- hypertension: integer (nullable = true)\n",
            " |-- heart_disease: integer (nullable = true)\n",
            " |-- ever_married: string (nullable = true)\n",
            " |-- work_type: string (nullable = true)\n",
            " |-- Residence_type: string (nullable = true)\n",
            " |-- avg_glucose_level: double (nullable = true)\n",
            " |-- bmi: double (nullable = true)\n",
            " |-- smoking_status: float (nullable = true)\n",
            " |-- stroke: integer (nullable = true)\n",
            "\n"
          ]
        }
      ]
    },
    {
      "cell_type": "markdown",
      "metadata": {
        "id": "89ce3b77"
      },
      "source": [
        "### Deal with null value according to your data analysis."
      ],
      "id": "89ce3b77"
    },
    {
      "cell_type": "code",
      "metadata": {
        "colab": {
          "base_uri": "https://localhost:8080/"
        },
        "id": "4d78cb87",
        "outputId": "2af1a006-d801-4c0e-eaab-a60423b66164"
      },
      "source": [
        "bmi_age= round(df.select(F.mean(df['bmi'])).collect()[0][0],0)\n",
        "bmi_age"
      ],
      "id": "4d78cb87",
      "execution_count": 227,
      "outputs": [
        {
          "output_type": "execute_result",
          "data": {
            "text/plain": [
              "29.0"
            ]
          },
          "metadata": {},
          "execution_count": 227
        }
      ]
    },
    {
      "cell_type": "code",
      "metadata": {
        "colab": {
          "base_uri": "https://localhost:8080/"
        },
        "id": "GdzfQXhJ58GH",
        "outputId": "7e6cc260-73dc-427a-a256-76fac6f0f00b"
      },
      "source": [
        "df= df.na.fill({'bmi':bmi_age})\n",
        "df.show(10)"
      ],
      "id": "GdzfQXhJ58GH",
      "execution_count": 228,
      "outputs": [
        {
          "output_type": "stream",
          "name": "stdout",
          "text": [
            "+-----+------+----+------------+-------------+------------+-------------+--------------+-----------------+----+--------------+------+\n",
            "|   id|gender| age|hypertension|heart_disease|ever_married|    work_type|Residence_type|avg_glucose_level| bmi|smoking_status|stroke|\n",
            "+-----+------+----+------------+-------------+------------+-------------+--------------+-----------------+----+--------------+------+\n",
            "| 9046|     1|67.0|           0|            1|         Yes|      Private|         Urban|           228.69|36.6|          0.75|     1|\n",
            "|51676|     0|61.0|           0|            0|         Yes|Self-employed|         Rural|           202.21|29.0|           0.0|     1|\n",
            "|31112|     1|80.0|           0|            1|         Yes|      Private|         Rural|           105.92|32.5|           0.0|     1|\n",
            "|60182|     0|49.0|           0|            0|         Yes|      Private|         Urban|           171.23|34.4|           1.0|     1|\n",
            "| 1665|     0|79.0|           1|            0|         Yes|Self-employed|         Rural|           174.12|24.0|           0.0|     1|\n",
            "|56669|     1|81.0|           0|            0|         Yes|      Private|         Urban|           186.21|29.0|          0.75|     1|\n",
            "|53882|     1|74.0|           1|            1|         Yes|      Private|         Rural|            70.09|27.4|           0.0|     1|\n",
            "|10434|     0|69.0|           0|            0|          No|      Private|         Urban|            94.39|22.8|           0.0|     1|\n",
            "|27419|     0|59.0|           0|            0|         Yes|      Private|         Rural|            76.15|29.0|           0.5|     1|\n",
            "|60491|     0|78.0|           0|            0|         Yes|      Private|         Urban|            58.57|24.2|           0.5|     1|\n",
            "+-----+------+----+------------+-------------+------------+-------------+--------------+-----------------+----+--------------+------+\n",
            "only showing top 10 rows\n",
            "\n"
          ]
        }
      ]
    },
    {
      "cell_type": "code",
      "metadata": {
        "colab": {
          "base_uri": "https://localhost:8080/"
        },
        "id": "_GebS3aC6K9Z",
        "outputId": "58a11ac2-a712-4a3d-fd0c-6be2fc5e9aa6"
      },
      "source": [
        "df.select([count(when(isnan(c) | col(c).isNull(), c)).alias(c) for c in df.columns]).show()"
      ],
      "id": "_GebS3aC6K9Z",
      "execution_count": 229,
      "outputs": [
        {
          "output_type": "stream",
          "name": "stdout",
          "text": [
            "+---+------+---+------------+-------------+------------+---------+--------------+-----------------+---+--------------+------+\n",
            "| id|gender|age|hypertension|heart_disease|ever_married|work_type|Residence_type|avg_glucose_level|bmi|smoking_status|stroke|\n",
            "+---+------+---+------------+-------------+------------+---------+--------------+-----------------+---+--------------+------+\n",
            "|  0|     0|  0|           0|            0|           0|        0|             0|                0|  0|             0|     0|\n",
            "+---+------+---+------------+-------------+------------+---------+--------------+-----------------+---+--------------+------+\n",
            "\n"
          ]
        }
      ]
    },
    {
      "cell_type": "markdown",
      "metadata": {
        "id": "053c429a"
      },
      "source": [
        "### Split the data into training and test dataframes:\n",
        "- 80% training and 20% test.\n",
        "- seed = 42.\n",
        "- Save each dataframe as a parquet file"
      ],
      "id": "053c429a"
    },
    {
      "cell_type": "code",
      "metadata": {
        "id": "VNJf0ogS6afT"
      },
      "source": [
        "from pyspark.ml.feature import StringIndexer, OneHotEncoder\n",
        "from pyspark.ml import Pipeline\n",
        "from pyspark.ml.classification import LogisticRegression"
      ],
      "id": "VNJf0ogS6afT",
      "execution_count": 230,
      "outputs": []
    },
    {
      "cell_type": "code",
      "metadata": {
        "colab": {
          "base_uri": "https://localhost:8080/"
        },
        "id": "0236ea8b",
        "outputId": "7bb99936-4d96-4f61-8e48-fabc63c3d8c9"
      },
      "source": [
        "X_train, X_test = df.randomSplit([0.8,0.2],seed=42)\n",
        "print(f\"There are {X_train.count()} rows in the training set, and {X_test.count()} in the test set.\")"
      ],
      "id": "0236ea8b",
      "execution_count": 231,
      "outputs": [
        {
          "output_type": "stream",
          "name": "stdout",
          "text": [
            "There are 4037 rows in the training set, and 953 in the test set.\n"
          ]
        }
      ]
    },
    {
      "cell_type": "code",
      "metadata": {
        "id": "Ixykqy5v7Ca0"
      },
      "source": [
        "X_train.write.parquet(\"X_train_2.parquet\")"
      ],
      "id": "Ixykqy5v7Ca0",
      "execution_count": 233,
      "outputs": []
    },
    {
      "cell_type": "code",
      "metadata": {
        "id": "DpUgMfcT7HeA"
      },
      "source": [
        "X_test.write.parquet(\"X_test_2.parquet\")"
      ],
      "id": "DpUgMfcT7HeA",
      "execution_count": 234,
      "outputs": []
    },
    {
      "cell_type": "markdown",
      "metadata": {
        "id": "78fa24da"
      },
      "source": [
        "### Read the saved Train and Test DataFrame:\n",
        "- Use the dataframes you read in the subsequent steps."
      ],
      "id": "78fa24da"
    },
    {
      "cell_type": "code",
      "metadata": {
        "id": "c3f5c1e3"
      },
      "source": [
        "X_train= spark.read.parquet(\"X_train_2.parquet\")\n",
        "X_test= spark.read.parquet(\"X_test_2.parquet\")"
      ],
      "id": "c3f5c1e3",
      "execution_count": 235,
      "outputs": []
    },
    {
      "cell_type": "markdown",
      "metadata": {
        "id": "987b4b40"
      },
      "source": [
        "### Create the model:\n",
        "- Perform feature engineering steps.\n",
        "- Create the logistic regression classifier.\n",
        "- Build the pipeline model that uses all feature engineering steps and the model.\n",
        "- Train the pipeline model using the trainig dataset."
      ],
      "id": "987b4b40"
    },
    {
      "cell_type": "code",
      "metadata": {
        "colab": {
          "base_uri": "https://localhost:8080/"
        },
        "id": "oVKs3JAd8Z3S",
        "outputId": "be8b99b0-722d-46a9-c8b4-44fcf7caeee4"
      },
      "source": [
        "X_train.dtypes"
      ],
      "id": "oVKs3JAd8Z3S",
      "execution_count": 237,
      "outputs": [
        {
          "output_type": "execute_result",
          "data": {
            "text/plain": [
              "[('id', 'int'),\n",
              " ('gender', 'int'),\n",
              " ('age', 'double'),\n",
              " ('hypertension', 'int'),\n",
              " ('heart_disease', 'int'),\n",
              " ('ever_married', 'string'),\n",
              " ('work_type', 'string'),\n",
              " ('Residence_type', 'string'),\n",
              " ('avg_glucose_level', 'double'),\n",
              " ('bmi', 'double'),\n",
              " ('smoking_status', 'float'),\n",
              " ('stroke', 'int')]"
            ]
          },
          "metadata": {},
          "execution_count": 237
        }
      ]
    },
    {
      "cell_type": "code",
      "metadata": {
        "colab": {
          "base_uri": "https://localhost:8080/"
        },
        "id": "3278e362",
        "outputId": "2df089c5-594e-45e3-a8b1-d8b180f56459"
      },
      "source": [
        "categoricalColumns = [col for (col, dtype) in X_train.dtypes\n",
        "                   if (dtype == \"string\")]\n",
        "categoricalColumns  "
      ],
      "id": "3278e362",
      "execution_count": 238,
      "outputs": [
        {
          "output_type": "execute_result",
          "data": {
            "text/plain": [
              "['ever_married', 'work_type', 'Residence_type']"
            ]
          },
          "metadata": {},
          "execution_count": 238
        }
      ]
    },
    {
      "cell_type": "code",
      "metadata": {
        "colab": {
          "base_uri": "https://localhost:8080/"
        },
        "id": "4e41b352",
        "outputId": "2c1f82eb-fb00-4780-98dd-ac75a8a25ab6"
      },
      "source": [
        "numericColumns = [field for (field,dataType) in X_train.dtypes\n",
        "              if ((dataType!='string') and (field!='id') and (field!='stroke'))]\n",
        "numericColumns"
      ],
      "id": "4e41b352",
      "execution_count": 344,
      "outputs": [
        {
          "output_type": "execute_result",
          "data": {
            "text/plain": [
              "['gender',\n",
              " 'age',\n",
              " 'hypertension',\n",
              " 'heart_disease',\n",
              " 'avg_glucose_level',\n",
              " 'bmi',\n",
              " 'smoking_status']"
            ]
          },
          "metadata": {},
          "execution_count": 344
        }
      ]
    },
    {
      "cell_type": "code",
      "metadata": {
        "colab": {
          "base_uri": "https://localhost:8080/"
        },
        "id": "106453d7",
        "outputId": "526d6f3f-ac7c-484a-e88a-192957f371bf"
      },
      "source": [
        "indexOutputColumns = [x + \"_Index\" for x in categoricalColumns]\n",
        "indexOutputColumns"
      ],
      "id": "106453d7",
      "execution_count": 345,
      "outputs": [
        {
          "output_type": "execute_result",
          "data": {
            "text/plain": [
              "['ever_married_Index', 'work_type_Index', 'Residence_type_Index']"
            ]
          },
          "metadata": {},
          "execution_count": 345
        }
      ]
    },
    {
      "cell_type": "code",
      "metadata": {
        "colab": {
          "base_uri": "https://localhost:8080/"
        },
        "id": "vVYXOicy83GF",
        "outputId": "998a8848-a118-4a30-ebaa-f885c171ee27"
      },
      "source": [
        "oheOutputColumns = [x + \"_OHE\" for x in categoricalColumns]\n",
        "oheOutputColumns"
      ],
      "id": "vVYXOicy83GF",
      "execution_count": 346,
      "outputs": [
        {
          "output_type": "execute_result",
          "data": {
            "text/plain": [
              "['ever_married_OHE', 'work_type_OHE', 'Residence_type_OHE']"
            ]
          },
          "metadata": {},
          "execution_count": 346
        }
      ]
    },
    {
      "cell_type": "code",
      "metadata": {
        "id": "SFdw5QLH-BuD"
      },
      "source": [
        "stringIndexer = StringIndexer(inputCols=categoricalColumns,\n",
        "                             outputCols=indexOutputColumns,\n",
        "                             handleInvalid='skip')\n",
        "oheEncoder = OneHotEncoder(inputCols=indexOutputColumns,\n",
        "                          outputCols=oheOutputColumns)"
      ],
      "id": "SFdw5QLH-BuD",
      "execution_count": 347,
      "outputs": []
    },
    {
      "cell_type": "code",
      "metadata": {
        "colab": {
          "base_uri": "https://localhost:8080/"
        },
        "id": "-aFS5SH4-EEj",
        "outputId": "4ecc7920-835e-41c6-dbb7-00f632ee2e33"
      },
      "source": [
        "assemblerInputs = oheOutputColumns + numericColumns\n",
        "assemblerInputs"
      ],
      "id": "-aFS5SH4-EEj",
      "execution_count": 348,
      "outputs": [
        {
          "output_type": "execute_result",
          "data": {
            "text/plain": [
              "['ever_married_OHE',\n",
              " 'work_type_OHE',\n",
              " 'Residence_type_OHE',\n",
              " 'gender',\n",
              " 'age',\n",
              " 'hypertension',\n",
              " 'heart_disease',\n",
              " 'avg_glucose_level',\n",
              " 'bmi',\n",
              " 'smoking_status']"
            ]
          },
          "metadata": {},
          "execution_count": 348
        }
      ]
    },
    {
      "cell_type": "code",
      "metadata": {
        "id": "0eSsfdpz-MUK"
      },
      "source": [
        "from pyspark.ml.feature import VectorAssembler\n",
        "\n",
        "vecAssembler = VectorAssembler(inputCols=assemblerInputs,outputCol='features')"
      ],
      "id": "0eSsfdpz-MUK",
      "execution_count": 349,
      "outputs": []
    },
    {
      "cell_type": "code",
      "metadata": {
        "id": "QeJ_Xykz-Nwz"
      },
      "source": [
        "lr_model= LogisticRegression(featuresCol='features', labelCol='stroke', predictionCol='prediction')\n",
        "pipeline =Pipeline(stages = [stringIndexer,oheEncoder,vecAssembler,lr_model])"
      ],
      "id": "QeJ_Xykz-Nwz",
      "execution_count": 350,
      "outputs": []
    },
    {
      "cell_type": "code",
      "metadata": {
        "id": "kLd0FCHg-cvU"
      },
      "source": [
        "pipelineModel = pipeline.fit(X_train)"
      ],
      "id": "kLd0FCHg-cvU",
      "execution_count": 351,
      "outputs": []
    },
    {
      "cell_type": "markdown",
      "metadata": {
        "id": "a05c2677"
      },
      "source": [
        "### Perform predictions on tests dataframe:\n",
        "- Test the model using the test dataframe\n",
        "- Select and show the feature column.\n",
        "- Print the schema of the output dataframe.\n",
        "- Select and show both prediction and label columns.\n",
        "- Explore the results for the label column stroke=1. i.e. select both columns (prediction,stroke) for stroke=1.<b>notice the result.</b> \n",
        "- Count the predicted 1 and 0 values.<b>notice the result.</b>   "
      ],
      "id": "a05c2677"
    },
    {
      "cell_type": "code",
      "metadata": {
        "id": "d772bef6"
      },
      "source": [
        "predDF = pipelineModel.transform(X_test)"
      ],
      "id": "d772bef6",
      "execution_count": 352,
      "outputs": []
    },
    {
      "cell_type": "code",
      "metadata": {
        "colab": {
          "base_uri": "https://localhost:8080/"
        },
        "id": "3ea267eb",
        "outputId": "96025e13-dc76-4b89-d31a-14f8a86e9155"
      },
      "source": [
        "predDF.select('features','stroke','prediction').show()"
      ],
      "id": "3ea267eb",
      "execution_count": 353,
      "outputs": [
        {
          "output_type": "stream",
          "name": "stdout",
          "text": [
            "+--------------------+------+----------+\n",
            "|            features|stroke|prediction|\n",
            "+--------------------+------+----------+\n",
            "|(13,[0,1,5,6,7,10...|     0|       0.0|\n",
            "|(13,[1,5,7,10,11]...|     0|       0.0|\n",
            "|(13,[0,1,7,10,11]...|     0|       0.0|\n",
            "|(13,[0,1,7,10,11,...|     0|       0.0|\n",
            "|(13,[0,1,5,6,7,10...|     0|       0.0|\n",
            "|(13,[0,1,7,10,11]...|     0|       0.0|\n",
            "|(13,[0,2,6,7,8,10...|     0|       0.0|\n",
            "|(13,[0,2,5,7,10,1...|     1|       0.0|\n",
            "|(13,[4,7,10,11,12...|     0|       0.0|\n",
            "|(13,[0,1,6,7,10,1...|     0|       0.0|\n",
            "|(13,[0,3,6,7,10,1...|     0|       0.0|\n",
            "|(13,[1,7,8,9,10,1...|     1|       0.0|\n",
            "|(13,[1,6,7,10,11]...|     0|       0.0|\n",
            "|(13,[0,2,7,10,11,...|     0|       0.0|\n",
            "|(13,[0,1,7,8,10,1...|     0|       0.0|\n",
            "|(13,[0,3,5,7,10,1...|     0|       0.0|\n",
            "|(13,[1,5,7,10,11]...|     0|       0.0|\n",
            "|[1.0,1.0,0.0,0.0,...|     0|       0.0|\n",
            "|[1.0,0.0,0.0,1.0,...|     0|       0.0|\n",
            "|(13,[1,5,7,10,11]...|     0|       0.0|\n",
            "+--------------------+------+----------+\n",
            "only showing top 20 rows\n",
            "\n"
          ]
        }
      ]
    },
    {
      "cell_type": "code",
      "metadata": {
        "id": "h59jupyz_wIA"
      },
      "source": [
        "#predDF = predDF.withColumn(\"prediction\", F.col(\"prediction\").cast('int'))"
      ],
      "id": "h59jupyz_wIA",
      "execution_count": 354,
      "outputs": []
    },
    {
      "cell_type": "code",
      "metadata": {
        "scrolled": false,
        "colab": {
          "base_uri": "https://localhost:8080/"
        },
        "id": "480d892e",
        "outputId": "025e08c8-ffbf-49d2-a78e-18b8588d1d73"
      },
      "source": [
        "predDF.printSchema()"
      ],
      "id": "480d892e",
      "execution_count": 355,
      "outputs": [
        {
          "output_type": "stream",
          "name": "stdout",
          "text": [
            "root\n",
            " |-- id: integer (nullable = true)\n",
            " |-- gender: integer (nullable = true)\n",
            " |-- age: double (nullable = true)\n",
            " |-- hypertension: integer (nullable = true)\n",
            " |-- heart_disease: integer (nullable = true)\n",
            " |-- ever_married: string (nullable = true)\n",
            " |-- work_type: string (nullable = true)\n",
            " |-- Residence_type: string (nullable = true)\n",
            " |-- avg_glucose_level: double (nullable = true)\n",
            " |-- bmi: double (nullable = true)\n",
            " |-- smoking_status: float (nullable = true)\n",
            " |-- stroke: integer (nullable = true)\n",
            " |-- ever_married_Index: double (nullable = false)\n",
            " |-- work_type_Index: double (nullable = false)\n",
            " |-- Residence_type_Index: double (nullable = false)\n",
            " |-- ever_married_OHE: vector (nullable = true)\n",
            " |-- work_type_OHE: vector (nullable = true)\n",
            " |-- Residence_type_OHE: vector (nullable = true)\n",
            " |-- features: vector (nullable = true)\n",
            " |-- rawPrediction: vector (nullable = true)\n",
            " |-- probability: vector (nullable = true)\n",
            " |-- prediction: double (nullable = false)\n",
            "\n"
          ]
        }
      ]
    },
    {
      "cell_type": "code",
      "metadata": {
        "colab": {
          "base_uri": "https://localhost:8080/"
        },
        "id": "c645e-Rm_S6A",
        "outputId": "db453ec1-810e-4134-c65e-6561fe5b8154"
      },
      "source": [
        "predDF.select('stroke','prediction').where('stroke = 1').show()"
      ],
      "id": "c645e-Rm_S6A",
      "execution_count": 356,
      "outputs": [
        {
          "output_type": "stream",
          "name": "stdout",
          "text": [
            "+------+----------+\n",
            "|stroke|prediction|\n",
            "+------+----------+\n",
            "|     1|       0.0|\n",
            "|     1|       0.0|\n",
            "|     1|       0.0|\n",
            "|     1|       0.0|\n",
            "|     1|       0.0|\n",
            "|     1|       0.0|\n",
            "|     1|       0.0|\n",
            "|     1|       0.0|\n",
            "|     1|       0.0|\n",
            "|     1|       0.0|\n",
            "|     1|       0.0|\n",
            "|     1|       0.0|\n",
            "|     1|       0.0|\n",
            "|     1|       0.0|\n",
            "|     1|       0.0|\n",
            "|     1|       0.0|\n",
            "|     1|       0.0|\n",
            "|     1|       0.0|\n",
            "|     1|       0.0|\n",
            "|     1|       0.0|\n",
            "+------+----------+\n",
            "only showing top 20 rows\n",
            "\n"
          ]
        }
      ]
    },
    {
      "cell_type": "code",
      "metadata": {
        "colab": {
          "base_uri": "https://localhost:8080/"
        },
        "id": "bCgRg-c4AJSp",
        "outputId": "107dab62-4165-4565-9d51-34e56dcdda9b"
      },
      "source": [
        "predDF.groupBy('prediction').count().show()"
      ],
      "id": "bCgRg-c4AJSp",
      "execution_count": 357,
      "outputs": [
        {
          "output_type": "stream",
          "name": "stdout",
          "text": [
            "+----------+-----+\n",
            "|prediction|count|\n",
            "+----------+-----+\n",
            "|       0.0|  953|\n",
            "+----------+-----+\n",
            "\n"
          ]
        }
      ]
    },
    {
      "cell_type": "markdown",
      "metadata": {
        "id": "daec120f"
      },
      "source": [
        "### Evaluate the model performance\n",
        "- Use <b>BinaryClassificationEvaluator</b>. This will calculate the <b>ROC</b>.\n",
        "- Set the parameters as follow:\n",
        "    - <b>rawPredictionCol='prediction'</b> and <b>labelCol='stroke'</b>"
      ],
      "id": "daec120f"
    },
    {
      "cell_type": "code",
      "metadata": {
        "id": "a7b5ad25"
      },
      "source": [
        "from pyspark.ml.evaluation import BinaryClassificationEvaluator"
      ],
      "id": "a7b5ad25",
      "execution_count": 358,
      "outputs": []
    },
    {
      "cell_type": "code",
      "metadata": {
        "id": "44d3a1e6"
      },
      "source": [
        "evaluatorROC = BinaryClassificationEvaluator(rawPredictionCol='prediction'\n",
        "                                             ,labelCol='stroke')"
      ],
      "id": "44d3a1e6",
      "execution_count": 359,
      "outputs": []
    },
    {
      "cell_type": "code",
      "metadata": {
        "colab": {
          "base_uri": "https://localhost:8080/"
        },
        "id": "3adbe41f",
        "outputId": "fb4ae2c9-ab97-4c0d-c88e-81c013ea1f26"
      },
      "source": [
        "evaluatorROC.evaluate(predDF)"
      ],
      "id": "3adbe41f",
      "execution_count": 360,
      "outputs": [
        {
          "output_type": "execute_result",
          "data": {
            "text/plain": [
              "0.5"
            ]
          },
          "metadata": {},
          "execution_count": 360
        }
      ]
    },
    {
      "cell_type": "markdown",
      "metadata": {
        "id": "40206589"
      },
      "source": [
        "### Improve Model Performance\n",
        "- You may noticed that <b>the target label is imbalanced</b>.\n",
        "- LogisticRegression classifier has a special parameter <b>weightCol</b> to deal with imbalanced class.\n",
        "- In order to use this parameter you must have a <b>weightCol</b> in your training dataframe.\n",
        "- In order to create this column you will need to define a <b>UDF</b> and apply it to the target label column.\n",
        "- Create a LogisticRegression classifier with <b>weightCol</b> parameter.\n",
        "- Build and train a pipeline model with the new LogisticRegression.\n",
        "- Perform the prediction on the test dataframe. \n",
        "- Select and show both prediction and label columns.\n",
        "- Explore the results for the label column stroke=1. i.e. select both columns (prediction,stroke) for stroke=1.<b>notice the result.</b> \n",
        "- Count the predicted 1 and 0 values.<b>notice the result.</b>   \n",
        "- Evaluate the model performance exactly as in the previous step.\n",
        "### YOU SHOULD OBTAIN  ROC > 0.65\n",
        "<BR>\n",
        "<b><font color='red'>Note: feel free to deal with the imbalanced cluster with the above method or another. However, you can only use methods applied on SPARK DATAFRAME</font></b>"
      ],
      "id": "40206589"
    },
    {
      "cell_type": "code",
      "metadata": {
        "colab": {
          "base_uri": "https://localhost:8080/"
        },
        "id": "_m9-emwKGed5",
        "outputId": "6834ba2a-8a96-43f6-e470-dd05f9281eea"
      },
      "source": [
        "numNegatives= X_train.where('stroke =0').count()\n",
        "numNegatives"
      ],
      "id": "_m9-emwKGed5",
      "execution_count": 363,
      "outputs": [
        {
          "output_type": "execute_result",
          "data": {
            "text/plain": [
              "3835"
            ]
          },
          "metadata": {},
          "execution_count": 363
        }
      ]
    },
    {
      "cell_type": "code",
      "metadata": {
        "colab": {
          "base_uri": "https://localhost:8080/"
        },
        "id": "S7lAFZFTGlnh",
        "outputId": "d681f223-b216-4247-e943-0f3cb7a1df72"
      },
      "source": [
        "dataset_size = X_train.count()\n",
        "dataset_size"
      ],
      "id": "S7lAFZFTGlnh",
      "execution_count": 364,
      "outputs": [
        {
          "output_type": "execute_result",
          "data": {
            "text/plain": [
              "4037"
            ]
          },
          "metadata": {},
          "execution_count": 364
        }
      ]
    },
    {
      "cell_type": "code",
      "metadata": {
        "colab": {
          "base_uri": "https://localhost:8080/"
        },
        "id": "03385adc",
        "outputId": "1133e9f7-7052-4b96-b3a9-d791795a44ec"
      },
      "source": [
        "\n",
        "BalancingRatio= numNegatives/dataset_size\n",
        "print('BalancingRatio = {}'.format(BalancingRatio))"
      ],
      "id": "03385adc",
      "execution_count": 365,
      "outputs": [
        {
          "output_type": "stream",
          "name": "stdout",
          "text": [
            "BalancingRatio = 0.9499628436958137\n"
          ]
        }
      ]
    },
    {
      "cell_type": "code",
      "metadata": {
        "id": "00e034e9"
      },
      "source": [
        "X_train=X_train.withColumn(\"classWeights\", when(X_train.stroke == 1,BalancingRatio).otherwise(1-BalancingRatio))"
      ],
      "id": "00e034e9",
      "execution_count": 366,
      "outputs": []
    },
    {
      "cell_type": "code",
      "metadata": {
        "colab": {
          "base_uri": "https://localhost:8080/"
        },
        "id": "66efa0c6",
        "outputId": "a7884050-b078-4234-f6ba-eb18f18df22d"
      },
      "source": [
        "X_train.select(\"classWeights\").show(5)"
      ],
      "id": "66efa0c6",
      "execution_count": 367,
      "outputs": [
        {
          "output_type": "stream",
          "name": "stdout",
          "text": [
            "+-------------------+\n",
            "|       classWeights|\n",
            "+-------------------+\n",
            "|0.05003715630418626|\n",
            "|0.05003715630418626|\n",
            "|0.05003715630418626|\n",
            "|0.05003715630418626|\n",
            "|0.05003715630418626|\n",
            "+-------------------+\n",
            "only showing top 5 rows\n",
            "\n"
          ]
        }
      ]
    },
    {
      "cell_type": "code",
      "metadata": {
        "id": "L80AVwcHHabz"
      },
      "source": [
        "lr_model_balanced= LogisticRegression(featuresCol='features', labelCol='stroke', predictionCol='prediction',weightCol=\"classWeights\")\n",
        "pipeline =Pipeline(stages = [stringIndexer,oheEncoder,vecAssembler,lr_model_balanced])"
      ],
      "id": "L80AVwcHHabz",
      "execution_count": 368,
      "outputs": []
    },
    {
      "cell_type": "code",
      "metadata": {
        "id": "FeSeIPzGHVpb"
      },
      "source": [
        "pipelineModel = pipeline.fit(X_train)"
      ],
      "id": "FeSeIPzGHVpb",
      "execution_count": 369,
      "outputs": []
    },
    {
      "cell_type": "code",
      "metadata": {
        "id": "X2h3H8PoHptg"
      },
      "source": [
        "predDF = pipelineModel.transform(X_test)"
      ],
      "id": "X2h3H8PoHptg",
      "execution_count": 370,
      "outputs": []
    },
    {
      "cell_type": "code",
      "metadata": {
        "colab": {
          "base_uri": "https://localhost:8080/"
        },
        "id": "lxuYo7wPH8OQ",
        "outputId": "a1731f5b-fa00-4fa2-b2c3-d2c7bdea07cd"
      },
      "source": [
        "predDF.select('features','stroke','prediction').show()"
      ],
      "id": "lxuYo7wPH8OQ",
      "execution_count": 373,
      "outputs": [
        {
          "output_type": "stream",
          "name": "stdout",
          "text": [
            "+--------------------+------+----------+\n",
            "|            features|stroke|prediction|\n",
            "+--------------------+------+----------+\n",
            "|(13,[0,1,5,6,7,10...|     0|       0.0|\n",
            "|(13,[1,5,7,10,11]...|     0|       0.0|\n",
            "|(13,[0,1,7,10,11]...|     0|       0.0|\n",
            "|(13,[0,1,7,10,11,...|     0|       0.0|\n",
            "|(13,[0,1,5,6,7,10...|     0|       1.0|\n",
            "|(13,[0,1,7,10,11]...|     0|       0.0|\n",
            "|(13,[0,2,6,7,8,10...|     0|       1.0|\n",
            "|(13,[0,2,5,7,10,1...|     1|       1.0|\n",
            "|(13,[4,7,10,11,12...|     0|       0.0|\n",
            "|(13,[0,1,6,7,10,1...|     0|       1.0|\n",
            "|(13,[0,3,6,7,10,1...|     0|       0.0|\n",
            "|(13,[1,7,8,9,10,1...|     1|       1.0|\n",
            "|(13,[1,6,7,10,11]...|     0|       0.0|\n",
            "|(13,[0,2,7,10,11,...|     0|       1.0|\n",
            "|(13,[0,1,7,8,10,1...|     0|       1.0|\n",
            "|(13,[0,3,5,7,10,1...|     0|       1.0|\n",
            "|(13,[1,5,7,10,11]...|     0|       0.0|\n",
            "|[1.0,1.0,0.0,0.0,...|     0|       1.0|\n",
            "|[1.0,0.0,0.0,1.0,...|     0|       1.0|\n",
            "|(13,[1,5,7,10,11]...|     0|       0.0|\n",
            "+--------------------+------+----------+\n",
            "only showing top 20 rows\n",
            "\n"
          ]
        }
      ]
    },
    {
      "cell_type": "code",
      "metadata": {
        "colab": {
          "base_uri": "https://localhost:8080/"
        },
        "id": "wyq2UMwsIB2q",
        "outputId": "dc0c98b9-1341-4a5f-fe53-103a921fb9c0"
      },
      "source": [
        "predDF.select('stroke','prediction').where('stroke = 1').show()"
      ],
      "id": "wyq2UMwsIB2q",
      "execution_count": 374,
      "outputs": [
        {
          "output_type": "stream",
          "name": "stdout",
          "text": [
            "+------+----------+\n",
            "|stroke|prediction|\n",
            "+------+----------+\n",
            "|     1|       1.0|\n",
            "|     1|       1.0|\n",
            "|     1|       1.0|\n",
            "|     1|       1.0|\n",
            "|     1|       1.0|\n",
            "|     1|       1.0|\n",
            "|     1|       1.0|\n",
            "|     1|       1.0|\n",
            "|     1|       0.0|\n",
            "|     1|       1.0|\n",
            "|     1|       1.0|\n",
            "|     1|       0.0|\n",
            "|     1|       1.0|\n",
            "|     1|       1.0|\n",
            "|     1|       1.0|\n",
            "|     1|       1.0|\n",
            "|     1|       1.0|\n",
            "|     1|       1.0|\n",
            "|     1|       1.0|\n",
            "|     1|       1.0|\n",
            "+------+----------+\n",
            "only showing top 20 rows\n",
            "\n"
          ]
        }
      ]
    },
    {
      "cell_type": "code",
      "metadata": {
        "colab": {
          "base_uri": "https://localhost:8080/"
        },
        "id": "FclVgBZyIMcZ",
        "outputId": "278858b1-0991-42fb-f35b-7934e3e43d79"
      },
      "source": [
        "predDF.groupBy('prediction').count().show()"
      ],
      "id": "FclVgBZyIMcZ",
      "execution_count": 375,
      "outputs": [
        {
          "output_type": "stream",
          "name": "stdout",
          "text": [
            "+----------+-----+\n",
            "|prediction|count|\n",
            "+----------+-----+\n",
            "|       0.0|  666|\n",
            "|       1.0|  287|\n",
            "+----------+-----+\n",
            "\n"
          ]
        }
      ]
    },
    {
      "cell_type": "code",
      "metadata": {
        "id": "m9PTmgilHqwA"
      },
      "source": [
        "evaluatorROC = BinaryClassificationEvaluator(rawPredictionCol='prediction'\n",
        "                                             ,labelCol='stroke')"
      ],
      "id": "m9PTmgilHqwA",
      "execution_count": 371,
      "outputs": []
    },
    {
      "cell_type": "code",
      "metadata": {
        "colab": {
          "base_uri": "https://localhost:8080/"
        },
        "id": "4e8c18b5",
        "outputId": "bcf1a196-c31c-445a-ba58-ea3c03965280"
      },
      "source": [
        "evaluatorROC.evaluate(predDF)"
      ],
      "id": "4e8c18b5",
      "execution_count": 372,
      "outputs": [
        {
          "output_type": "execute_result",
          "data": {
            "text/plain": [
              "0.7757777671252577"
            ]
          },
          "metadata": {},
          "execution_count": 372
        }
      ]
    },
    {
      "cell_type": "markdown",
      "metadata": {
        "id": "e00e7b53"
      },
      "source": [
        "# GOOD LUCK\n",
        "<b><font color='GREEN'>AI-PRO Spark Team ITI</font></b>"
      ],
      "id": "e00e7b53"
    },
    {
      "cell_type": "markdown",
      "metadata": {
        "id": "0e065922"
      },
      "source": [
        "![image-3.png](attachment:image-3.png)"
      ],
      "id": "0e065922"
    }
  ]
}